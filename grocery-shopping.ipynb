{
 "cells": [
  {
   "cell_type": "markdown",
   "metadata": {},
   "source": [
    "# Project 2019"
   ]
  },
  {
   "cell_type": "markdown",
   "metadata": {},
   "source": [
    "## Programming for Data Analysis"
   ]
  },
  {
   "cell_type": "markdown",
   "metadata": {},
   "source": [
    "This project will contain a dataset of grocery shopping in supermarkets in Ireland. My research is aimed at variables that affect consumers choice of shopping.\n",
    "I will use some Python code to generate random choice between some factors."
   ]
  },
  {
   "cell_type": "markdown",
   "metadata": {},
   "source": [
    "I can take into consideration more than just four variables which impact customers behaviour. For example: people's economic situation, health and wellness, product availability, fast check-out, age, online shopping, in-store services, products quality, prices, variety, food trends, store locations etc. I decided to pick four variables such as:"
   ]
  },
  {
   "cell_type": "markdown",
   "metadata": {},
   "source": [
    "##### 1. Product quality\n",
    "##### 2. Price\n",
    "##### 3. Variety of assortment\n",
    "##### 4. Food trends"
   ]
  },
  {
   "cell_type": "markdown",
   "metadata": {},
   "source": [
    "========================================================================================================================="
   ]
  },
  {
   "cell_type": "markdown",
   "metadata": {},
   "source": [
    "Grocery shopping is a phenomenon of  the real-world because everyone must eat and everyone must decide what to buy, where and for how much.\n",
    "It's customers who choose the products to satisfy their needs and there is a lot of different variables which are very important and help to decide what to buy. Lots of companies take these variables as an important marketing point when developing strategies and offers. \n",
    "I have recently noticed that not only emotional and social components have an impact on grocery shopping, but also food trends. Different lifestyles determine consumer behaviour when it comes to grocery shopping, for example: vegans, vegetarians, hipsters, fitness people and people with celiac disease or any other type of allergy.\n",
    "As a result of my research, buying food nowadays is nothing like it was in my parents generation neither my grandparents"
   ]
  },
  {
   "cell_type": "markdown",
   "metadata": {},
   "source": [
    "**Product quality**  - among all the features I think one of the most important is the product quality. Quality is not just offering a product which exceed the standard but it is also a good reputalion for producer/ seller and loyality to that product. Quality products help to maintain customer satisfaction.\n",
    "In my project it will be a calegorical variable with three possible values: _organic_, _better value_ (products made from good quality ingrediens without E numbers but not organic), _regular value_ which means inferior products."
   ]
  },
  {
   "cell_type": "markdown",
   "metadata": {},
   "source": [
    "**Price** - it means the amount of money that we can spend on our purchaches. It means that some customers may buy their products on prices and some will pay more for better quality.\n",
    "From my observations (as I am working in grocery shop), I concluded that they (customers) usually say, for example: \"This bread is expensive, but it is worth it, because I found it delicious\" or \"It is expencive but nowadays we have to pay more to eat healthy\" but also I heard \"OMG it is so expencive! I am not gonna to buy this\".\n",
    "This variable will be non-negative real number with two decimal places. All prices are in Euro."
   ]
  },
  {
   "cell_type": "markdown",
   "metadata": {},
   "source": [
    "**Variety of assortment** - as I mentioned before I am working in retail. For the last years my shop has changed a lot. From my observation every 2 or 3 years shops change their assortments (not everything!). Before the headoffice decide what to remove from the shelf, they conduct market research and sales for a certain period. The shop where I am working in stocks up to 90,000 different products. There are big brands, every pack sizes and flavours. For example:Tomato ketchup - Tesco offers 26 sauces in different sizes whereas Aldi just one in one size. Lots of big stores bring new products to increase sales and market attractiveness. This variable will determine availability and it will be a one-zero integer."
   ]
  },
  {
   "cell_type": "markdown",
   "metadata": {},
   "source": [
    "**Food trends** - Food trends are new nowadays. Most offen they are defined by diseases, allergies, special nutritional needs and lifestyle recently.\n",
    "There are few very popular trends which I found during my research:\n",
    "First is _food-on-the-go_ which is the best option for busy people who don't have time to cook. It is a good suggestion for the bus, train, car or on foot and it is healthy and fresh. Next is _transparent ingredients_. People want to know where their food is coming from and with whole, transparent ingredients will be more likely to pick up. Another trend is _healthy refrigerated option_ means that refrigerated meats, cheeses, and even protein bars will continue to gain popularity in the near future.\n",
    "Another but not last is special _diet_ for example Keto diet or Low-carb diet, both are ready-made options at grocery stores. And the last trend is _Instagram-worthy foods_. It is absolutely phenomenal trend and I know that this trend has a huge impact on shopping. As there is a lot of trends I decided to use just one and it is _food-on-the-go_ and it will be one-zero integer."
   ]
  },
  {
   "cell_type": "markdown",
   "metadata": {},
   "source": [
    "======================================================================================================================"
   ]
  },
  {
   "cell_type": "markdown",
   "metadata": {},
   "source": [
    "Product quality as my first variable is stored in a certain strings: **'organic'** for organic and natural products, **'better'** for products with better value but not organic or natural and **'inferior'** for any other products."
   ]
  },
  {
   "cell_type": "markdown",
   "metadata": {},
   "source": [
    "I will use random package to randomly select a product/products."
   ]
  },
  {
   "cell_type": "code",
   "execution_count": 8,
   "metadata": {},
   "outputs": [
    {
     "name": "stdout",
     "output_type": "stream",
     "text": [
      "better\n"
     ]
    }
   ],
   "source": [
    "import random\n",
    "# The three types of products available in the store\n",
    "product = ['organic', 'better', 'inferior']\n",
    "# Pick a random product\n",
    "print(random.choice(product))"
   ]
  },
  {
   "cell_type": "markdown",
   "metadata": {},
   "source": [
    "This output gives me one of the choices of the products which are available in the store. "
   ]
  },
  {
   "cell_type": "code",
   "execution_count": 26,
   "metadata": {},
   "outputs": [],
   "source": [
    "# 100 products available in the store\n",
    "hund = [random.choice(product) for i in range(100)]\n",
    "random.seed(100)"
   ]
  },
  {
   "cell_type": "code",
   "execution_count": 27,
   "metadata": {
    "scrolled": true
   },
   "outputs": [
    {
     "data": {
      "text/plain": [
       "['organic',\n",
       " 'better',\n",
       " 'better',\n",
       " 'organic',\n",
       " 'inferior',\n",
       " 'better',\n",
       " 'inferior',\n",
       " 'better',\n",
       " 'better',\n",
       " 'inferior',\n",
       " 'organic',\n",
       " 'inferior',\n",
       " 'organic',\n",
       " 'organic',\n",
       " 'inferior',\n",
       " 'better',\n",
       " 'better',\n",
       " 'organic',\n",
       " 'inferior',\n",
       " 'inferior',\n",
       " 'organic',\n",
       " 'better',\n",
       " 'organic',\n",
       " 'better',\n",
       " 'organic',\n",
       " 'organic',\n",
       " 'organic',\n",
       " 'organic',\n",
       " 'better',\n",
       " 'better',\n",
       " 'inferior',\n",
       " 'better',\n",
       " 'organic',\n",
       " 'better',\n",
       " 'better',\n",
       " 'inferior',\n",
       " 'better',\n",
       " 'better',\n",
       " 'organic',\n",
       " 'inferior',\n",
       " 'inferior',\n",
       " 'organic',\n",
       " 'organic',\n",
       " 'organic',\n",
       " 'inferior',\n",
       " 'better',\n",
       " 'organic',\n",
       " 'inferior',\n",
       " 'organic',\n",
       " 'organic',\n",
       " 'organic',\n",
       " 'organic',\n",
       " 'inferior',\n",
       " 'organic',\n",
       " 'better',\n",
       " 'inferior',\n",
       " 'better',\n",
       " 'organic',\n",
       " 'inferior',\n",
       " 'inferior',\n",
       " 'organic',\n",
       " 'inferior',\n",
       " 'organic',\n",
       " 'inferior',\n",
       " 'inferior',\n",
       " 'inferior',\n",
       " 'inferior',\n",
       " 'better',\n",
       " 'inferior',\n",
       " 'inferior',\n",
       " 'better',\n",
       " 'inferior',\n",
       " 'inferior',\n",
       " 'better',\n",
       " 'inferior',\n",
       " 'better',\n",
       " 'better',\n",
       " 'better',\n",
       " 'organic',\n",
       " 'organic',\n",
       " 'better',\n",
       " 'inferior',\n",
       " 'better',\n",
       " 'better',\n",
       " 'organic',\n",
       " 'inferior',\n",
       " 'inferior',\n",
       " 'better',\n",
       " 'inferior',\n",
       " 'better',\n",
       " 'inferior',\n",
       " 'better',\n",
       " 'organic',\n",
       " 'organic',\n",
       " 'inferior',\n",
       " 'inferior',\n",
       " 'better',\n",
       " 'organic',\n",
       " 'organic',\n",
       " 'better']"
      ]
     },
     "execution_count": 27,
     "metadata": {},
     "output_type": "execute_result"
    }
   ],
   "source": [
    "hund"
   ]
  },
  {
   "cell_type": "markdown",
   "metadata": {},
   "source": [
    "and again I can use the same distribution to get 100 randomly outputs"
   ]
  },
  {
   "cell_type": "code",
   "execution_count": 23,
   "metadata": {},
   "outputs": [
    {
     "data": {
      "text/plain": [
       "array(['organic', 'better', 'better', 'organic', 'organic', 'inferior',\n",
       "       'inferior', 'inferior', 'inferior', 'organic', 'organic',\n",
       "       'inferior', 'organic', 'organic', 'inferior', 'organic',\n",
       "       'inferior', 'inferior', 'inferior', 'inferior', 'better', 'better',\n",
       "       'inferior', 'inferior', 'organic', 'organic', 'better', 'inferior',\n",
       "       'better', 'inferior', 'better', 'organic', 'better', 'inferior',\n",
       "       'organic', 'better', 'better', 'inferior', 'better', 'organic',\n",
       "       'better', 'inferior', 'organic', 'organic', 'organic', 'better',\n",
       "       'better', 'inferior', 'inferior', 'inferior', 'organic', 'organic',\n",
       "       'organic', 'better', 'organic', 'organic', 'inferior', 'organic',\n",
       "       'organic', 'organic', 'inferior', 'better', 'inferior', 'organic',\n",
       "       'organic', 'better', 'organic', 'organic', 'better', 'inferior',\n",
       "       'inferior', 'better', 'inferior', 'organic', 'better', 'better',\n",
       "       'inferior', 'better', 'better', 'organic', 'inferior', 'better',\n",
       "       'inferior', 'better', 'better', 'organic', 'organic', 'inferior',\n",
       "       'better', 'organic', 'better', 'inferior', 'inferior', 'inferior',\n",
       "       'organic', 'inferior', 'inferior', 'better', 'better', 'organic'],\n",
       "      dtype='<U8')"
      ]
     },
     "execution_count": 23,
     "metadata": {},
     "output_type": "execute_result"
    }
   ],
   "source": [
    "np.random.choice(['organic', 'better', 'inferior'], size=100)"
   ]
  },
  {
   "cell_type": "code",
   "execution_count": 24,
   "metadata": {},
   "outputs": [
    {
     "data": {
      "image/png": "[encoded data removed]",
      "text/plain": [
       "<Figure size 720x216 with 1 Axes>"
      ]
     },
     "metadata": {},
     "output_type": "display_data"
    }
   ],
   "source": [
    "import seaborn as sns\n",
    "import matplotlib.pyplot as plt\n",
    "plt.figure(figsize=(10,3))\n",
    "sns.set(style=\"whitegrid\")\n",
    "ax = sns.countplot(y = hund)\n",
    "plt.show()"
   ]
  },
  {
   "cell_type": "code",
   "execution_count": null,
   "metadata": {},
   "outputs": [],
   "source": []
  }
 ],
 "metadata": {
  "kernelspec": {
   "display_name": "Python 3",
   "language": "python",
   "name": "python3"
  },
  "language_info": {
   "codemirror_mode": {
    "name": "ipython",
    "version": 3
   },
   "file_extension": ".py",
   "mimetype": "text/x-python",
   "name": "python",
   "nbconvert_exporter": "python",
   "pygments_lexer": "ipython3",
   "version": "3.7.1"
  }
 },
 "nbformat": 4,
 "nbformat_minor": 2
}
