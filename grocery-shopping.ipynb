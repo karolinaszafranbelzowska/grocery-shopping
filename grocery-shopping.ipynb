{
 "cells": [
  {
   "cell_type": "markdown",
   "metadata": {},
   "source": [
    "# Project 2019"
   ]
  },
  {
   "cell_type": "markdown",
   "metadata": {},
   "source": [
    "## Programming for Data Analysis"
   ]
  },
  {
   "cell_type": "markdown",
   "metadata": {},
   "source": [
    "This project will contain a dataset of grocery shopping in supermarkets in Ireland. My research is aimed at variables that affect consumers choice of shopping.\n",
    "I will use some Python code to generate random choice between some factors."
   ]
  },
  {
   "cell_type": "markdown",
   "metadata": {},
   "source": [
    "I can take into consideration more than just four variables which impact customers behaviour. For example: people's economic situation, health and wellness, product availability, fast check-out, age, brand, online shopping, in-store services, products quality, prices, variety, food trends, store locations etc. I decided to pick four variables such as:"
   ]
  },
  {
   "cell_type": "markdown",
   "metadata": {},
   "source": [
    "##### 1. Product quality\n",
    "##### 2. Price\n",
    "##### 3. Variety of assortment\n",
    "##### 4. Food trends"
   ]
  },
  {
   "cell_type": "markdown",
   "metadata": {},
   "source": [
    "========================================================================================================================="
   ]
  },
  {
   "cell_type": "markdown",
   "metadata": {},
   "source": [
    "Grocery shopping is a phenomenon of  the real-world because everyone must eat and everyone must decide what to buy, where and for how much.\n",
    "It's customers who choose the products to satisfy their needs and there is a lot of different variables which are very important and help to decide what to buy. Lots of companies take these variables as an important marketing point when developing strategies and offers. \n",
    "I have recently noticed that not only emotional and social components have an impact on grocery shopping, but also food trends. Different lifestyles determine consumer behaviour when it comes to grocery shopping, for example: vegans, vegetarians, hipsters, fitness people and people with celiac disease or any other type of allergy.\n",
    "As a result of my research, buying food nowadays is nothing like it was in my parents generation neither my grandparents"
   ]
  },
  {
   "cell_type": "markdown",
   "metadata": {},
   "source": [
    "**Product quality**  - among all the features I think one of the most important is the product quality. Quality is not just offering a product which exceed the standard but it is also a good reputalion for producer/ seller and loyality to that product. Quality products help to maintain customer satisfaction.\n",
    "In my project it will be a calegorical variable with three possible values: _organic_, _better value_ (products made from good quality ingrediens without E numbers but not organic), _regular value_ which means inferior products."
   ]
  },
  {
   "cell_type": "markdown",
   "metadata": {},
   "source": [
    "**Price** - it means the amount of money that we can spend on our purchaches. It means that some customers may buy their products on prices and some will pay more for better quality.\n",
    "From my observations (as I am working in grocery shop), I concluded that they (customers) usually say, for example: \"This bread is expensive, but it is worth it, because I found it delicious\" or \"It is expencive but nowadays we have to pay more to eat healthy\" but also I heard \"OMG it is so expencive! I am not gonna to buy this\".\n",
    "This variable will be non-negative real number with two decimal places. All prices are in Euro."
   ]
  },
  {
   "cell_type": "markdown",
   "metadata": {},
   "source": [
    "**Variety of assortment** - as I mentioned before I am working in retail. For the last years my shop has changed a lot. From my observation every 2 or 3 years shops change their assortments (not everything!). Before the headoffice decide what to remove from the shelf, they conduct market research and sales for a certain period. The shop where I am working in stocks up to 90,000 different products. There are big brands, every pack sizes and flavours. For example:Tomato ketchup - Tesco offers 26 sauces in different sizes whereas Aldi just one in one size. Lots of big stores bring new products to increase sales and market attractiveness. I called this variable as _variety of assortment_ and I will determine **availability** and it will be a one-zero integer."
   ]
  },
  {
   "cell_type": "markdown",
   "metadata": {},
   "source": [
    "**Food trends** - Food trends are new nowadays. Most offen they are defined by diseases, allergies, special nutritional needs and lifestyle recently.\n",
    "There are few very popular trends which I found during my research:\n",
    "First is _food-on-the-go_ which is the best option for busy people who don't have time to cook. It is a good suggestion for the bus, train, car or on foot and it is healthy and fresh. Next is _transparent ingredients_. People want to know where their food is coming from and with whole, transparent ingredients will be more likely to pick up. Another trend is _healthy refrigerated option_ means that refrigerated meats, cheeses, and even protein bars will continue to gain popularity in the near future.\n",
    "Another but not last is special _diet_ for example Keto diet or Low-carb diet, both are ready-made options at grocery stores. And the last trend is _Instagram-worthy foods_. It is absolutely phenomenal trend and I know that this trend has a huge impact on shopping. As there is a lot of trends I decided to use just one and it is _food-on-the-go_ and it will be one-zero integer."
   ]
  },
  {
   "cell_type": "markdown",
   "metadata": {},
   "source": [
    "======================================================================================================================"
   ]
  },
  {
   "cell_type": "markdown",
   "metadata": {},
   "source": [
    "Product quality as my first variable is stored in a certain strings: **'organic'** for organic and natural products, **'better'** for products with better value but not organic or natural and **'inferior'** for any other products."
   ]
  },
  {
   "cell_type": "markdown",
   "metadata": {},
   "source": [
    "I will use random package to randomly select a product/products."
   ]
  },
  {
   "cell_type": "code",
   "execution_count": 23,
   "metadata": {},
   "outputs": [
    {
     "name": "stdout",
     "output_type": "stream",
     "text": [
      "organic\n"
     ]
    }
   ],
   "source": [
    "import random\n",
    "# The three types of products available in the store\n",
    "product = ['organic', 'better', 'inferior']\n",
    "# Pick a random product\n",
    "print(random.choice(product))"
   ]
  },
  {
   "cell_type": "markdown",
   "metadata": {},
   "source": [
    "This output gives me one of the choices of the products which are available in the store. "
   ]
  },
  {
   "cell_type": "code",
   "execution_count": 27,
   "metadata": {},
   "outputs": [],
   "source": [
    "# 100 products available in the store\n",
    "hund = [random.choice(product) for i in range(100)]\n",
    "random.seed(100)"
   ]
  },
  {
   "cell_type": "code",
   "execution_count": 28,
   "metadata": {},
   "outputs": [
    {
     "data": {
      "text/plain": [
       "array(['better', 'better', 'inferior', 'better', 'inferior', 'better',\n",
       "       'better', 'better', 'better', 'inferior', 'better', 'organic',\n",
       "       'better', 'better', 'inferior', 'better', 'inferior', 'organic',\n",
       "       'organic', 'inferior', 'better', 'organic', 'organic', 'inferior',\n",
       "       'better', 'better', 'organic', 'better', 'inferior', 'better',\n",
       "       'inferior', 'better', 'organic', 'better', 'better', 'inferior',\n",
       "       'better', 'better', 'organic', 'better', 'organic', 'inferior',\n",
       "       'organic', 'organic', 'inferior', 'better', 'better', 'inferior',\n",
       "       'organic', 'better', 'organic', 'organic', 'inferior', 'inferior',\n",
       "       'inferior', 'inferior', 'organic', 'organic', 'organic',\n",
       "       'inferior', 'organic', 'inferior', 'organic', 'organic',\n",
       "       'inferior', 'better', 'inferior', 'inferior', 'better', 'organic',\n",
       "       'better', 'inferior', 'better', 'organic', 'organic', 'better',\n",
       "       'organic', 'organic', 'organic', 'inferior', 'inferior',\n",
       "       'inferior', 'better', 'better', 'organic', 'better', 'inferior',\n",
       "       'inferior', 'inferior', 'better', 'organic', 'organic', 'inferior',\n",
       "       'better', 'organic', 'better', 'better', 'better', 'inferior',\n",
       "       'better'], dtype='<U8')"
      ]
     },
     "execution_count": 28,
     "metadata": {},
     "output_type": "execute_result"
    }
   ],
   "source": [
    "import numpy as np\n",
    "import random\n",
    "random.seed(100)\n",
    "np.random.choice(['organic', 'better', 'inferior'], size=100)"
   ]
  },
  {
   "cell_type": "code",
   "execution_count": 29,
   "metadata": {},
   "outputs": [
    {
     "data": {
      "image/png": "[encoded data removed]",
      "text/plain": [
       "<Figure size 720x216 with 1 Axes>"
      ]
     },
     "metadata": {},
     "output_type": "display_data"
    }
   ],
   "source": [
    "import seaborn as sns\n",
    "import matplotlib.pyplot as plt\n",
    "plt.figure(figsize=(10,3))\n",
    "sns.set(style=\"whitegrid\")\n",
    "ax = sns.countplot(y = hund)\n",
    "plt.show()"
   ]
  },
  {
   "cell_type": "markdown",
   "metadata": {},
   "source": [
    "**Organic** food is often viewed as healthier, more ethical, and tastier than food grown with pesticides. In 2016 there was a survey conducted on 3000 people from USA, UK and Astralia where most respondents agreed that they buy organic food for health reasons [7]. Some customers don't buy those products because they are too expencive. There were three more parameters taken into account: environmental safeguarding, taste, and animal walfare but not as important as first two. \n",
    "Organic food doesn't contain food additives which make health problems such as heart disease, asthma, osteoporosis, migraines, food allergies and hyperactivity. \n",
    "An alternative to organic food is better quality products without any pesticides or \"Free From\" products, like gluten free or lactose free. People with higher preferences know what to expect from the product, read its ingredients and then make a purchase decision. This products are certainly much cheaper than organic but still more expencive than inferior.\n",
    "As a grocery store employee, I noticed that a lot of people are actually buying organic products, but still lots of them are buying inferior quality products. The main factors here are the price and preferences but what I noticed recently lots of customers is poor. \n",
    "On the other hand, as a customer, I often bought organic products but recently reduced them to the minimum because of the price. "
   ]
  },
  {
   "cell_type": "markdown",
   "metadata": {},
   "source": [
    "It should be noticed that in this case **price** is very important. Price is my next variable. Higher quality products have a higher price, organic have the highest price whereas lower quality (in this project inferior) are the cheapest."
   ]
  },
  {
   "cell_type": "code",
   "execution_count": null,
   "metadata": {},
   "outputs": [],
   "source": []
  },
  {
   "cell_type": "code",
   "execution_count": null,
   "metadata": {},
   "outputs": [],
   "source": []
  },
  {
   "cell_type": "code",
   "execution_count": null,
   "metadata": {},
   "outputs": [],
   "source": []
  },
  {
   "cell_type": "code",
   "execution_count": null,
   "metadata": {},
   "outputs": [],
   "source": []
  },
  {
   "cell_type": "code",
   "execution_count": null,
   "metadata": {},
   "outputs": [],
   "source": []
  },
  {
   "cell_type": "code",
   "execution_count": null,
   "metadata": {},
   "outputs": [],
   "source": []
  },
  {
   "cell_type": "markdown",
   "metadata": {},
   "source": [
    "My dataset contains products which every customer can buy in one of supermarkets in Galway. I randomly picked 100 of them on Monday (02/12/2019), Tuesday (03/12/2019), Wednesday (03/12/2019) and Thursday (04/12/2019) - 25 on each day.\n",
    "I checked the product, price and variety. I decided myself if product is in trend or not (as I am fitness woman). My research was done in different departments every day to check the cross-section of all products available or not in that shop."
   ]
  },
  {
   "cell_type": "markdown",
   "metadata": {},
   "source": [
    "**Monday the 2nd of December 2019**"
   ]
  },
  {
   "cell_type": "code",
   "execution_count": 53,
   "metadata": {},
   "outputs": [
    {
     "data": {
      "text/html": [
       "<div>\n",
       "<style scoped>\n",
       "    .dataframe tbody tr th:only-of-type {\n",
       "        vertical-align: middle;\n",
       "    }\n",
       "\n",
       "    .dataframe tbody tr th {\n",
       "        vertical-align: top;\n",
       "    }\n",
       "\n",
       "    .dataframe thead th {\n",
       "        text-align: right;\n",
       "    }\n",
       "</style>\n",
       "<table border=\"1\" class=\"dataframe\">\n",
       "  <thead>\n",
       "    <tr style=\"text-align: right;\">\n",
       "      <th></th>\n",
       "      <th>Name</th>\n",
       "      <th>quality</th>\n",
       "      <th>price</th>\n",
       "      <th>availability</th>\n",
       "      <th>trends</th>\n",
       "    </tr>\n",
       "  </thead>\n",
       "  <tbody>\n",
       "    <tr>\n",
       "      <th>0</th>\n",
       "      <td>carrot - multipack</td>\n",
       "      <td>organic</td>\n",
       "      <td>1,49</td>\n",
       "      <td>1</td>\n",
       "      <td>0</td>\n",
       "    </tr>\n",
       "    <tr>\n",
       "      <th>1</th>\n",
       "      <td>carrot - multipack</td>\n",
       "      <td>inferior</td>\n",
       "      <td>0,49</td>\n",
       "      <td>1</td>\n",
       "      <td>0</td>\n",
       "    </tr>\n",
       "    <tr>\n",
       "      <th>2</th>\n",
       "      <td>potatoes - multipack</td>\n",
       "      <td>organic</td>\n",
       "      <td>1,99</td>\n",
       "      <td>1</td>\n",
       "      <td>0</td>\n",
       "    </tr>\n",
       "    <tr>\n",
       "      <th>3</th>\n",
       "      <td>potatoes - small pack</td>\n",
       "      <td>better</td>\n",
       "      <td>0,99</td>\n",
       "      <td>1</td>\n",
       "      <td>0</td>\n",
       "    </tr>\n",
       "    <tr>\n",
       "      <th>4</th>\n",
       "      <td>sweet potatoes</td>\n",
       "      <td>better</td>\n",
       "      <td>0,49</td>\n",
       "      <td>1</td>\n",
       "      <td>0</td>\n",
       "    </tr>\n",
       "    <tr>\n",
       "      <th>5</th>\n",
       "      <td>potatoes</td>\n",
       "      <td>inferior</td>\n",
       "      <td>1,29</td>\n",
       "      <td>1</td>\n",
       "      <td>0</td>\n",
       "    </tr>\n",
       "    <tr>\n",
       "      <th>6</th>\n",
       "      <td>kale</td>\n",
       "      <td>organic</td>\n",
       "      <td>1,59</td>\n",
       "      <td>1</td>\n",
       "      <td>0</td>\n",
       "    </tr>\n",
       "    <tr>\n",
       "      <th>7</th>\n",
       "      <td>kale</td>\n",
       "      <td>inferior</td>\n",
       "      <td>0,99</td>\n",
       "      <td>1</td>\n",
       "      <td>0</td>\n",
       "    </tr>\n",
       "    <tr>\n",
       "      <th>8</th>\n",
       "      <td>spinach</td>\n",
       "      <td>organic</td>\n",
       "      <td>1,59</td>\n",
       "      <td>1</td>\n",
       "      <td>0</td>\n",
       "    </tr>\n",
       "    <tr>\n",
       "      <th>9</th>\n",
       "      <td>spinach</td>\n",
       "      <td>better</td>\n",
       "      <td>0,99</td>\n",
       "      <td>1</td>\n",
       "      <td>0</td>\n",
       "    </tr>\n",
       "    <tr>\n",
       "      <th>10</th>\n",
       "      <td>red seedless grapes</td>\n",
       "      <td>organic</td>\n",
       "      <td>2,69</td>\n",
       "      <td>1</td>\n",
       "      <td>1</td>\n",
       "    </tr>\n",
       "    <tr>\n",
       "      <th>11</th>\n",
       "      <td>red seedless grapes</td>\n",
       "      <td>inferior</td>\n",
       "      <td>1,59</td>\n",
       "      <td>1</td>\n",
       "      <td>1</td>\n",
       "    </tr>\n",
       "    <tr>\n",
       "      <th>12</th>\n",
       "      <td>white seedless grapes</td>\n",
       "      <td>inferior</td>\n",
       "      <td>1,59</td>\n",
       "      <td>1</td>\n",
       "      <td>1</td>\n",
       "    </tr>\n",
       "    <tr>\n",
       "      <th>13</th>\n",
       "      <td>seeded white grapes</td>\n",
       "      <td>organic</td>\n",
       "      <td>2,99</td>\n",
       "      <td>1</td>\n",
       "      <td>1</td>\n",
       "    </tr>\n",
       "    <tr>\n",
       "      <th>14</th>\n",
       "      <td>unwaxed lemon</td>\n",
       "      <td>organic</td>\n",
       "      <td>2,99</td>\n",
       "      <td>1</td>\n",
       "      <td>0</td>\n",
       "    </tr>\n",
       "    <tr>\n",
       "      <th>15</th>\n",
       "      <td>lemon</td>\n",
       "      <td>inferior</td>\n",
       "      <td>0,99</td>\n",
       "      <td>1</td>\n",
       "      <td>0</td>\n",
       "    </tr>\n",
       "    <tr>\n",
       "      <th>16</th>\n",
       "      <td>broccoli</td>\n",
       "      <td>organic</td>\n",
       "      <td>1,69</td>\n",
       "      <td>0</td>\n",
       "      <td>0</td>\n",
       "    </tr>\n",
       "    <tr>\n",
       "      <th>17</th>\n",
       "      <td>leek- multipack</td>\n",
       "      <td>organic</td>\n",
       "      <td>2,49</td>\n",
       "      <td>1</td>\n",
       "      <td>0</td>\n",
       "    </tr>\n",
       "    <tr>\n",
       "      <th>18</th>\n",
       "      <td>leek - single</td>\n",
       "      <td>inferior</td>\n",
       "      <td>0,49</td>\n",
       "      <td>1</td>\n",
       "      <td>0</td>\n",
       "    </tr>\n",
       "    <tr>\n",
       "      <th>19</th>\n",
       "      <td>celery</td>\n",
       "      <td>organic</td>\n",
       "      <td>1,99</td>\n",
       "      <td>1</td>\n",
       "      <td>0</td>\n",
       "    </tr>\n",
       "    <tr>\n",
       "      <th>20</th>\n",
       "      <td>Gala apples - 4</td>\n",
       "      <td>inferior</td>\n",
       "      <td>1,79</td>\n",
       "      <td>1</td>\n",
       "      <td>1</td>\n",
       "    </tr>\n",
       "    <tr>\n",
       "      <th>21</th>\n",
       "      <td>PinkLady apples - 6</td>\n",
       "      <td>inferior</td>\n",
       "      <td>1,99</td>\n",
       "      <td>1</td>\n",
       "      <td>1</td>\n",
       "    </tr>\n",
       "    <tr>\n",
       "      <th>22</th>\n",
       "      <td>Bramley cooking apples - 1</td>\n",
       "      <td>inferior</td>\n",
       "      <td>0,39</td>\n",
       "      <td>1</td>\n",
       "      <td>1</td>\n",
       "    </tr>\n",
       "    <tr>\n",
       "      <th>23</th>\n",
       "      <td>Gala apples</td>\n",
       "      <td>organic</td>\n",
       "      <td>2,99</td>\n",
       "      <td>0</td>\n",
       "      <td>1</td>\n",
       "    </tr>\n",
       "    <tr>\n",
       "      <th>24</th>\n",
       "      <td>Keelings bramley apples -4</td>\n",
       "      <td>inferior</td>\n",
       "      <td>2,99</td>\n",
       "      <td>0</td>\n",
       "      <td>0</td>\n",
       "    </tr>\n",
       "    <tr>\n",
       "      <th>25</th>\n",
       "      <td>Braeburn apples</td>\n",
       "      <td>organic</td>\n",
       "      <td>2,99</td>\n",
       "      <td>0</td>\n",
       "      <td>1</td>\n",
       "    </tr>\n",
       "  </tbody>\n",
       "</table>\n",
       "</div>"
      ],
      "text/plain": [
       "                          Name   quality price  availability  trends\n",
       "0           carrot - multipack   organic  1,49             1       0\n",
       "1           carrot - multipack  inferior  0,49             1       0\n",
       "2         potatoes - multipack   organic  1,99             1       0\n",
       "3        potatoes - small pack    better  0,99             1       0\n",
       "4               sweet potatoes    better  0,49             1       0\n",
       "5                     potatoes  inferior  1,29             1       0\n",
       "6                         kale   organic  1,59             1       0\n",
       "7                         kale  inferior  0,99             1       0\n",
       "8                      spinach   organic  1,59             1       0\n",
       "9                      spinach    better  0,99             1       0\n",
       "10         red seedless grapes   organic  2,69             1       1\n",
       "11         red seedless grapes  inferior  1,59             1       1\n",
       "12       white seedless grapes  inferior  1,59             1       1\n",
       "13         seeded white grapes   organic  2,99             1       1\n",
       "14               unwaxed lemon   organic  2,99             1       0\n",
       "15                       lemon  inferior  0,99             1       0\n",
       "16                    broccoli   organic  1,69             0       0\n",
       "17             leek- multipack   organic  2,49             1       0\n",
       "18               leek - single  inferior  0,49             1       0\n",
       "19                      celery   organic  1,99             1       0\n",
       "20             Gala apples - 4  inferior  1,79             1       1\n",
       "21         PinkLady apples - 6  inferior  1,99             1       1\n",
       "22  Bramley cooking apples - 1  inferior  0,39             1       1\n",
       "23                 Gala apples   organic  2,99             0       1\n",
       "24  Keelings bramley apples -4  inferior  2,99             0       0\n",
       "25             Braeburn apples   organic  2,99             0       1"
      ]
     },
     "execution_count": 53,
     "metadata": {},
     "output_type": "execute_result"
    }
   ],
   "source": [
    "import pandas as pd\n",
    "data = [['carrot - multipack', 'organic', '1,49', 1, 0], ['carrot - multipack', 'inferior', '0,49', 1, 0], \n",
    "        ['potatoes - multipack', 'organic', '1,99', 1, 0], ['potatoes - small pack', 'better', '0,99', 1, 0],\n",
    "        ['sweet potatoes', 'better', '0,49', 1, 0], ['potatoes', 'inferior', '1,29', 1, 0], ['kale', 'organic', '1,59', 1, 0],\n",
    "        ['kale', 'inferior', '0,99', 1, 0], ['spinach', 'organic', '1,59', 1, 0], ['spinach', 'better', '0,99', 1, 0],\n",
    "        ['red seedless grapes', 'organic', '2,69', 1, 1], ['red seedless grapes', 'inferior', '1,59', 1, 1], \n",
    "        ['white seedless grapes', 'inferior', '1,59', 1, 1], ['seeded white grapes', 'organic', '2,99', 1, 1],\n",
    "        ['unwaxed lemon', 'organic', '2,99', 1, 0], ['lemon', 'inferior', '0,99', 1, 0], ['broccoli', 'organic', '1,69', 0, 0],\n",
    "        ['leek- multipack', 'organic', '2,49', 1, 0], ['leek - single', 'inferior', '0,49', 1, 0], \n",
    "        ['celery', 'organic', '1,99', 1, 0], ['Gala apples - 4', 'inferior', '1,79', 1, 1],\n",
    "        ['PinkLady apples - 6', 'inferior', '1,99', 1, 1], ['Bramley cooking apples - 1', 'inferior', '0,39', 1, 1],\n",
    "        ['Gala apples', 'organic', '2,99', 0, 1], ['Keelings bramley apples -4', 'inferior', '2,99', 0, 0],\n",
    "        ['Braeburn apples', 'organic', '2,99', 0, 1]]\n",
    "df = pd.DataFrame(data, columns = ['Name', 'quality', 'price', 'availability', 'trends'])\n",
    "df"
   ]
  },
  {
   "cell_type": "markdown",
   "metadata": {},
   "source": [
    "Looking at the data in the table, I can concluded that most of the products are available. Why? The answer is very simple, first the time - before Christmas and second it is shop in the city center where lots of people do their grocery shopping. My survey was carried out in December, so the availability of goods in this period is almost one hundred percent.\n",
    "Trend here is mostly _0_, why? you could ask. Vegetables and fruts are in trend?? But my research was based on products on-the-go, so carrots multipack - 1kg are not in this variable."
   ]
  },
  {
   "cell_type": "markdown",
   "metadata": {},
   "source": [
    "**Tuesday the 3rd of December 2019**"
   ]
  },
  {
   "cell_type": "code",
   "execution_count": 52,
   "metadata": {},
   "outputs": [
    {
     "data": {
      "text/html": [
       "<div>\n",
       "<style scoped>\n",
       "    .dataframe tbody tr th:only-of-type {\n",
       "        vertical-align: middle;\n",
       "    }\n",
       "\n",
       "    .dataframe tbody tr th {\n",
       "        vertical-align: top;\n",
       "    }\n",
       "\n",
       "    .dataframe thead th {\n",
       "        text-align: right;\n",
       "    }\n",
       "</style>\n",
       "<table border=\"1\" class=\"dataframe\">\n",
       "  <thead>\n",
       "    <tr style=\"text-align: right;\">\n",
       "      <th></th>\n",
       "      <th>Name</th>\n",
       "      <th>quality</th>\n",
       "      <th>price</th>\n",
       "      <th>availability</th>\n",
       "      <th>trends</th>\n",
       "    </tr>\n",
       "  </thead>\n",
       "  <tbody>\n",
       "    <tr>\n",
       "      <th>0</th>\n",
       "      <td>Fresh milk - 1l</td>\n",
       "      <td>organic</td>\n",
       "      <td>0,99</td>\n",
       "      <td>1</td>\n",
       "      <td>0</td>\n",
       "    </tr>\n",
       "    <tr>\n",
       "      <th>1</th>\n",
       "      <td>Fresh milk - 2l</td>\n",
       "      <td>inferior</td>\n",
       "      <td>1,49</td>\n",
       "      <td>1</td>\n",
       "      <td>0</td>\n",
       "    </tr>\n",
       "    <tr>\n",
       "      <th>2</th>\n",
       "      <td>Fresh milk low - 2l</td>\n",
       "      <td>inferior</td>\n",
       "      <td>1,49</td>\n",
       "      <td>1</td>\n",
       "      <td>0</td>\n",
       "    </tr>\n",
       "    <tr>\n",
       "      <th>3</th>\n",
       "      <td>Avonmore low - 1.75l</td>\n",
       "      <td>better</td>\n",
       "      <td>1,99</td>\n",
       "      <td>1</td>\n",
       "      <td>1</td>\n",
       "    </tr>\n",
       "    <tr>\n",
       "      <th>4</th>\n",
       "      <td>Butter milk</td>\n",
       "      <td>inferior</td>\n",
       "      <td>0,79</td>\n",
       "      <td>1</td>\n",
       "      <td>0</td>\n",
       "    </tr>\n",
       "    <tr>\n",
       "      <th>5</th>\n",
       "      <td>Avonmore butter milk</td>\n",
       "      <td>better</td>\n",
       "      <td>1,10</td>\n",
       "      <td>1</td>\n",
       "      <td>0</td>\n",
       "    </tr>\n",
       "    <tr>\n",
       "      <th>6</th>\n",
       "      <td>Alpro - soya milk</td>\n",
       "      <td>better</td>\n",
       "      <td>2,19</td>\n",
       "      <td>1</td>\n",
       "      <td>0</td>\n",
       "    </tr>\n",
       "    <tr>\n",
       "      <th>7</th>\n",
       "      <td>Alpro - almond milk</td>\n",
       "      <td>better</td>\n",
       "      <td>2,39</td>\n",
       "      <td>1</td>\n",
       "      <td>0</td>\n",
       "    </tr>\n",
       "    <tr>\n",
       "      <th>8</th>\n",
       "      <td>Avonmore lactofree milk</td>\n",
       "      <td>better</td>\n",
       "      <td>1,99</td>\n",
       "      <td>1</td>\n",
       "      <td>0</td>\n",
       "    </tr>\n",
       "    <tr>\n",
       "      <th>9</th>\n",
       "      <td>Alpro plain yoghurt - 500g</td>\n",
       "      <td>better</td>\n",
       "      <td>2,35</td>\n",
       "      <td>1</td>\n",
       "      <td>0</td>\n",
       "    </tr>\n",
       "    <tr>\n",
       "      <th>10</th>\n",
       "      <td>Avonmore protein milk</td>\n",
       "      <td>better</td>\n",
       "      <td>1,09</td>\n",
       "      <td>1</td>\n",
       "      <td>1</td>\n",
       "    </tr>\n",
       "    <tr>\n",
       "      <th>11</th>\n",
       "      <td>Yop drinking yoghurt</td>\n",
       "      <td>inferior</td>\n",
       "      <td>3,99</td>\n",
       "      <td>1</td>\n",
       "      <td>1</td>\n",
       "    </tr>\n",
       "    <tr>\n",
       "      <th>12</th>\n",
       "      <td>Glenisk Fatfree -500g</td>\n",
       "      <td>organic</td>\n",
       "      <td>2,29</td>\n",
       "      <td>1</td>\n",
       "      <td>0</td>\n",
       "    </tr>\n",
       "    <tr>\n",
       "      <th>13</th>\n",
       "      <td>Activia strawberry - multipack</td>\n",
       "      <td>better</td>\n",
       "      <td>2,59</td>\n",
       "      <td>0</td>\n",
       "      <td>0</td>\n",
       "    </tr>\n",
       "    <tr>\n",
       "      <th>14</th>\n",
       "      <td>Onken natural yoghurt -500g</td>\n",
       "      <td>better</td>\n",
       "      <td>1,85</td>\n",
       "      <td>1</td>\n",
       "      <td>0</td>\n",
       "    </tr>\n",
       "    <tr>\n",
       "      <th>15</th>\n",
       "      <td>Glenilen natural yoghurt -500g</td>\n",
       "      <td>better</td>\n",
       "      <td>1,49</td>\n",
       "      <td>1</td>\n",
       "      <td>0</td>\n",
       "    </tr>\n",
       "    <tr>\n",
       "      <th>16</th>\n",
       "      <td>Store Natural yoghurt -500g</td>\n",
       "      <td>inferior</td>\n",
       "      <td>0,79</td>\n",
       "      <td>1</td>\n",
       "      <td>0</td>\n",
       "    </tr>\n",
       "    <tr>\n",
       "      <th>17</th>\n",
       "      <td>Liberte natural yoghurt -500g</td>\n",
       "      <td>better</td>\n",
       "      <td>2,75</td>\n",
       "      <td>1</td>\n",
       "      <td>0</td>\n",
       "    </tr>\n",
       "    <tr>\n",
       "      <th>18</th>\n",
       "      <td>Kerrygold butter -454g</td>\n",
       "      <td>better</td>\n",
       "      <td>3,75</td>\n",
       "      <td>1</td>\n",
       "      <td>0</td>\n",
       "    </tr>\n",
       "    <tr>\n",
       "      <th>19</th>\n",
       "      <td>Store butter -454g</td>\n",
       "      <td>inferior</td>\n",
       "      <td>2,19</td>\n",
       "      <td>1</td>\n",
       "      <td>0</td>\n",
       "    </tr>\n",
       "    <tr>\n",
       "      <th>20</th>\n",
       "      <td>Connacht butter -454g</td>\n",
       "      <td>better</td>\n",
       "      <td>2,50</td>\n",
       "      <td>1</td>\n",
       "      <td>0</td>\n",
       "    </tr>\n",
       "    <tr>\n",
       "      <th>21</th>\n",
       "      <td>Glenstal unsalted butter -227g</td>\n",
       "      <td>better</td>\n",
       "      <td>2,45</td>\n",
       "      <td>1</td>\n",
       "      <td>0</td>\n",
       "    </tr>\n",
       "    <tr>\n",
       "      <th>22</th>\n",
       "      <td>Kerrymaid spread - 500g</td>\n",
       "      <td>inferior</td>\n",
       "      <td>1,49</td>\n",
       "      <td>1</td>\n",
       "      <td>0</td>\n",
       "    </tr>\n",
       "    <tr>\n",
       "      <th>23</th>\n",
       "      <td>Store salted butter</td>\n",
       "      <td>organic</td>\n",
       "      <td>2,49</td>\n",
       "      <td>1</td>\n",
       "      <td>0</td>\n",
       "    </tr>\n",
       "    <tr>\n",
       "      <th>24</th>\n",
       "      <td>Pure dairyfree soya spread</td>\n",
       "      <td>better</td>\n",
       "      <td>1,55</td>\n",
       "      <td>1</td>\n",
       "      <td>0</td>\n",
       "    </tr>\n",
       "    <tr>\n",
       "      <th>25</th>\n",
       "      <td>Dairygold baking block</td>\n",
       "      <td>better</td>\n",
       "      <td>0,75</td>\n",
       "      <td>1</td>\n",
       "      <td>0</td>\n",
       "    </tr>\n",
       "  </tbody>\n",
       "</table>\n",
       "</div>"
      ],
      "text/plain": [
       "                              Name   quality price  availability  trends\n",
       "0                  Fresh milk - 1l   organic  0,99             1       0\n",
       "1                  Fresh milk - 2l  inferior  1,49             1       0\n",
       "2              Fresh milk low - 2l  inferior  1,49             1       0\n",
       "3             Avonmore low - 1.75l    better  1,99             1       1\n",
       "4                      Butter milk  inferior  0,79             1       0\n",
       "5             Avonmore butter milk    better  1,10             1       0\n",
       "6                Alpro - soya milk    better  2,19             1       0\n",
       "7              Alpro - almond milk    better  2,39             1       0\n",
       "8          Avonmore lactofree milk    better  1,99             1       0\n",
       "9       Alpro plain yoghurt - 500g    better  2,35             1       0\n",
       "10           Avonmore protein milk    better  1,09             1       1\n",
       "11            Yop drinking yoghurt  inferior  3,99             1       1\n",
       "12           Glenisk Fatfree -500g   organic  2,29             1       0\n",
       "13  Activia strawberry - multipack    better  2,59             0       0\n",
       "14     Onken natural yoghurt -500g    better  1,85             1       0\n",
       "15  Glenilen natural yoghurt -500g    better  1,49             1       0\n",
       "16     Store Natural yoghurt -500g  inferior  0,79             1       0\n",
       "17   Liberte natural yoghurt -500g    better  2,75             1       0\n",
       "18          Kerrygold butter -454g    better  3,75             1       0\n",
       "19              Store butter -454g  inferior  2,19             1       0\n",
       "20           Connacht butter -454g    better  2,50             1       0\n",
       "21  Glenstal unsalted butter -227g    better  2,45             1       0\n",
       "22         Kerrymaid spread - 500g  inferior  1,49             1       0\n",
       "23             Store salted butter   organic  2,49             1       0\n",
       "24      Pure dairyfree soya spread    better  1,55             1       0\n",
       "25          Dairygold baking block    better  0,75             1       0"
      ]
     },
     "execution_count": 52,
     "metadata": {},
     "output_type": "execute_result"
    }
   ],
   "source": [
    "import pandas as pd\n",
    "data2 = [['Fresh milk - 1l', 'organic', '0,99', 1, 0], ['Fresh milk - 2l', 'inferior', '1,49', 1, 0], \n",
    "         ['Fresh milk low - 2l', 'inferior', '1,49', 1, 0], ['Avonmore low - 1.75l', 'better', '1,99', 1, 1],\n",
    "         ['Butter milk', 'inferior', '0,79', 1, 0], ['Avonmore butter milk', 'better', '1,10', 1, 0],\n",
    "         ['Alpro - soya milk', 'better', '2,19', 1, 0], ['Alpro - almond milk', 'better', '2,39', 1, 0],\n",
    "         ['Avonmore lactofree milk', 'better', '1,99', 1, 0], ['Alpro plain yoghurt - 500g', 'better', '2,35', 1, 0],\n",
    "         ['Avonmore protein milk', 'better', '1,09', 1, 1], ['Yop drinking yoghurt', 'inferior', '3,99', 1, 1], \n",
    "         ['Glenisk Fatfree -500g', 'organic', '2,29', 1, 0], ['Activia strawberry - multipack', 'better', '2,59', 0, 0],\n",
    "         ['Onken natural yoghurt -500g', 'better', '1,85', 1, 0], ['Glenilen natural yoghurt -500g', 'better', '1,49', 1, 0],\n",
    "         ['Store Natural yoghurt -500g', 'inferior', '0,79', 1, 0], ['Liberte natural yoghurt -500g', 'better', '2,75', 1, 0],\n",
    "         ['Kerrygold butter -454g', 'better', '3,75', 1, 0], ['Store butter -454g', 'inferior', '2,19', 1, 0],\n",
    "         ['Connacht butter -454g', 'better', '2,50', 1, 0], ['Glenstal unsalted butter -227g', 'better', '2,45', 1, 0],\n",
    "         ['Kerrymaid spread - 500g', 'inferior', '1,49', 1, 0], ['Store salted butter', 'organic', '2,49', 1, 0],\n",
    "         ['Pure dairyfree soya spread', 'better', '1,55', 1, 0], ['Dairygold baking block', 'better', '0,75', 1, 0]]\n",
    "df2 = pd.DataFrame(data2, columns = ['Name', 'quality', 'price', 'availability', 'trends'])\n",
    "df2"
   ]
  },
  {
   "cell_type": "markdown",
   "metadata": {},
   "source": [
    "Just one product was not available that day - Activia strawbery yoghurt. Probably the next day or the fallowing day it was in stock. All products in this data frame were chilled (we called them _fresh food_), so most of them are better quality products and just few of them are organic. For these products it is difficult to talk about products _on-the-go_, so almost all of them are _0_."
   ]
  },
  {
   "cell_type": "markdown",
   "metadata": {},
   "source": [
    "**Wednesday the 4th of December 2019**"
   ]
  },
  {
   "cell_type": "code",
   "execution_count": 33,
   "metadata": {},
   "outputs": [
    {
     "data": {
      "text/html": [
       "<div>\n",
       "<style scoped>\n",
       "    .dataframe tbody tr th:only-of-type {\n",
       "        vertical-align: middle;\n",
       "    }\n",
       "\n",
       "    .dataframe tbody tr th {\n",
       "        vertical-align: top;\n",
       "    }\n",
       "\n",
       "    .dataframe thead th {\n",
       "        text-align: right;\n",
       "    }\n",
       "</style>\n",
       "<table border=\"1\" class=\"dataframe\">\n",
       "  <thead>\n",
       "    <tr style=\"text-align: right;\">\n",
       "      <th></th>\n",
       "      <th>Name</th>\n",
       "      <th>quality</th>\n",
       "      <th>price</th>\n",
       "      <th>availability</th>\n",
       "      <th>trends</th>\n",
       "    </tr>\n",
       "  </thead>\n",
       "  <tbody>\n",
       "  </tbody>\n",
       "</table>\n",
       "</div>"
      ],
      "text/plain": [
       "Empty DataFrame\n",
       "Columns: [Name, quality, price, availability, trends]\n",
       "Index: []"
      ]
     },
     "execution_count": 33,
     "metadata": {},
     "output_type": "execute_result"
    }
   ],
   "source": [
    "import pandas as pd\n",
    "data3 = [    ]\n",
    "df3 = pd.DataFrame(data3, columns = ['Name', 'quality', 'price', 'availability', 'trends'])\n",
    "df3"
   ]
  },
  {
   "cell_type": "markdown",
   "metadata": {},
   "source": [
    "**Thursday the 5th of December 2019**"
   ]
  },
  {
   "cell_type": "code",
   "execution_count": 34,
   "metadata": {},
   "outputs": [
    {
     "data": {
      "text/html": [
       "<div>\n",
       "<style scoped>\n",
       "    .dataframe tbody tr th:only-of-type {\n",
       "        vertical-align: middle;\n",
       "    }\n",
       "\n",
       "    .dataframe tbody tr th {\n",
       "        vertical-align: top;\n",
       "    }\n",
       "\n",
       "    .dataframe thead th {\n",
       "        text-align: right;\n",
       "    }\n",
       "</style>\n",
       "<table border=\"1\" class=\"dataframe\">\n",
       "  <thead>\n",
       "    <tr style=\"text-align: right;\">\n",
       "      <th></th>\n",
       "      <th>Name</th>\n",
       "      <th>quality</th>\n",
       "      <th>price</th>\n",
       "      <th>availability</th>\n",
       "      <th>trends</th>\n",
       "    </tr>\n",
       "  </thead>\n",
       "  <tbody>\n",
       "  </tbody>\n",
       "</table>\n",
       "</div>"
      ],
      "text/plain": [
       "Empty DataFrame\n",
       "Columns: [Name, quality, price, availability, trends]\n",
       "Index: []"
      ]
     },
     "execution_count": 34,
     "metadata": {},
     "output_type": "execute_result"
    }
   ],
   "source": [
    "import pandas as pd\n",
    "data4 = [    ]\n",
    "df4 = pd.DataFrame(data4, columns = ['Name', 'quality', 'price', 'availability', 'trends'])\n",
    "df4"
   ]
  },
  {
   "cell_type": "code",
   "execution_count": null,
   "metadata": {},
   "outputs": [],
   "source": []
  },
  {
   "cell_type": "code",
   "execution_count": null,
   "metadata": {},
   "outputs": [],
   "source": []
  },
  {
   "cell_type": "code",
   "execution_count": null,
   "metadata": {},
   "outputs": [],
   "source": []
  },
  {
   "cell_type": "code",
   "execution_count": null,
   "metadata": {},
   "outputs": [],
   "source": []
  }
 ],
 "metadata": {
  "kernelspec": {
   "display_name": "Python 3",
   "language": "python",
   "name": "python3"
  },
  "language_info": {
   "codemirror_mode": {
    "name": "ipython",
    "version": 3
   },
   "file_extension": ".py",
   "mimetype": "text/x-python",
   "name": "python",
   "nbconvert_exporter": "python",
   "pygments_lexer": "ipython3",
   "version": "3.7.1"
  }
 },
 "nbformat": 4,
 "nbformat_minor": 2
}
